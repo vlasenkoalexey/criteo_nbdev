{
 "cells": [
  {
   "cell_type": "code",
   "execution_count": null,
   "metadata": {},
   "outputs": [],
   "source": [
    "# default_exp setup"
   ]
  },
  {
   "cell_type": "code",
   "execution_count": 77,
   "metadata": {},
   "outputs": [],
   "source": [
    "import gcp_runner.core\n",
    "gcp_runner.core.export_and_reload_all(silent=True)"
   ]
  },
  {
   "cell_type": "code",
   "execution_count": 76,
   "metadata": {},
   "outputs": [],
   "source": [
    "#export \n",
    "from criteo_nbdev.constants import *"
   ]
  },
  {
   "cell_type": "markdown",
   "metadata": {},
   "source": [
    "# Configure Google Cloud SDK\n",
    "## Install Google Cloud SDK\n",
    "\n",
    "See https://cloud.google.com/sdk/docs/downloads-interactive"
   ]
  },
  {
   "cell_type": "code",
   "execution_count": 2,
   "metadata": {},
   "outputs": [
    {
     "name": "stdout",
     "output_type": "stream",
     "text": [
      "  % Total    % Received % Xferd  Average Speed   Time    Time     Time  Current\n",
      "                                 Dload  Upload   Total   Spent    Left  Speed\n",
      "100   443  100   443    0     0   3545      0 --:--:-- --:--:-- --:--:--  3572\n"
     ]
    }
   ],
   "source": [
    "!curl https://sdk.cloud.google.com > install.sh"
   ]
  },
  {
   "cell_type": "code",
   "execution_count": 3,
   "metadata": {},
   "outputs": [
    {
     "name": "stdout",
     "output_type": "stream",
     "text": [
      "Downloading Google Cloud SDK install script: https://dl.google.com/dl/cloudsdk/channels/rapid/install_google_cloud_sdk.bash\n",
      "######################################################################## 100.0%\n",
      "Running install script from: /var/folders/0c/_9t2rb612zq01d325yh__5ph0069sb/T/tmp.XXXXXXXXXX.NqjaQrCj/install_google_cloud_sdk.bash\n",
      "which curl\n",
      "curl -# -f https://dl.google.com/dl/cloudsdk/channels/rapid/google-cloud-sdk.tar.gz\n",
      "######################################################################## 100.0%                      4.5%     5.6%   17.6%                                30.6%                  48.7%############                  78.5%################                 80.5%\n",
      "\n",
      "mkdir -p /Users/alekseyv\n",
      "\"/Users/alekseyv/google-cloud-sdk\" already exists and may contain out of date files.\n",
      "Remove /Users/alekseyv/google-cloud-sdk or select a new installation directory, then run again.\n"
     ]
    }
   ],
   "source": [
    "!bash install.sh --disable-prompts"
   ]
  },
  {
   "cell_type": "markdown",
   "metadata": {},
   "source": [
    "## Configure Project"
   ]
  },
  {
   "cell_type": "code",
   "execution_count": null,
   "metadata": {},
   "outputs": [],
   "source": [
    "!gcloud init"
   ]
  },
  {
   "cell_type": "code",
   "execution_count": 15,
   "metadata": {},
   "outputs": [
    {
     "name": "stdout",
     "output_type": "stream",
     "text": [
      "alekseyv-scalableai-dev\n"
     ]
    }
   ],
   "source": [
    "!echo $PROJECT_ID"
   ]
  },
  {
   "cell_type": "code",
   "execution_count": 74,
   "metadata": {},
   "outputs": [
    {
     "name": "stdout",
     "output_type": "stream",
     "text": [
      "Updated property [core/project].\n"
     ]
    }
   ],
   "source": [
    "!gcloud config set project $PROJECT_ID"
   ]
  },
  {
   "cell_type": "code",
   "execution_count": 75,
   "metadata": {},
   "outputs": [],
   "source": [
    "!gcloud services enable bigquery.googleapis.com\n",
    "!gcloud services enable bigquerystorage.googleapis.com\n",
    "!gcloud services enable container.googleapis.com\n",
    "!gcloud services enable ml.googleapis.com\n",
    "!gcloud services enable storage-api.googleapis.com\n",
    "!gcloud services enable storage-component.googleapis.com\n",
    "!gcloud services enable tpu.googleapis.com"
   ]
  },
  {
   "cell_type": "markdown",
   "metadata": {},
   "source": [
    "## Download and configure service account key\n",
    "\n",
    "See https://cloud.google.com/iam/docs/creating-managing-service-account-keys#iam-service-account-keys-create-gcloud"
   ]
  },
  {
   "cell_type": "code",
   "execution_count": 44,
   "metadata": {},
   "outputs": [
    {
     "data": {
      "text/plain": [
       "'alekseyv-service@alekseyv-scalableai-dev.iam.gserviceaccount.com'"
      ]
     },
     "execution_count": 44,
     "metadata": {},
     "output_type": "execute_result"
    }
   ],
   "source": [
    "user_name = !echo $USER\n",
    "iam_account = '{user_name}-service@{project_id}.iam.gserviceaccount.com'.format(user_name=user_name[0], project_id=PROJECT_ID)\n",
    "iam_account"
   ]
  },
  {
   "cell_type": "code",
   "execution_count": 50,
   "metadata": {},
   "outputs": [
    {
     "name": "stdout",
     "output_type": "stream",
     "text": [
      "created key [7754ec6da57f9f5c55a471209c34b0fb640c1fa1] of type [json] as [./service_account_key.json] for [alekseyv-service@alekseyv-scalableai-dev.iam.gserviceaccount.com]\n"
     ]
    }
   ],
   "source": [
    "!gcloud iam service-accounts keys create ./$SERVICE_ACCOUNT_KEY_FILE_NAME --iam-account=$iam_account"
   ]
  },
  {
   "cell_type": "code",
   "execution_count": 73,
   "metadata": {},
   "outputs": [
    {
     "name": "stdout",
     "output_type": "stream",
     "text": [
      "Copying file://./service_account_key.json [Content-Type=application/json]...\n",
      "- [1 files][  2.3 KiB/  2.3 KiB]                                                \n",
      "Operation completed over 1 objects/2.3 KiB.                                      \n"
     ]
    }
   ],
   "source": [
    "!gsutil cp ./$SERVICE_ACCOUNT_KEY_FILE_NAME $PRIVATE_GCS_BUCKET"
   ]
  },
  {
   "cell_type": "code",
   "execution_count": 2,
   "metadata": {},
   "outputs": [
    {
     "name": "stdout",
     "output_type": "stream",
     "text": [
      "  % Total    % Received % Xferd  Average Speed   Time    Time     Time  Current\n",
      "                                 Dload  Upload   Total   Spent    Left  Speed\n",
      "100  277k  100  277k    0     0   110k      0  0:00:02  0:00:02 --:--:--  110k\n"
     ]
    }
   ],
   "source": [
    "!curl https://raw.githubusercontent.com/grpc/grpc/master/etc/roots.pem -o ./roots.pem"
   ]
  },
  {
   "cell_type": "code",
   "execution_count": 3,
   "metadata": {},
   "outputs": [
    {
     "name": "stdout",
     "output_type": "stream",
     "text": [
      "00_core.ipynb            MANIFEST.in              roots.pem\n",
      "01_constants.ipynb       Makefile                 service_account_key.json\n",
      "02_data_download.ipynb   README.md                settings.ini\n",
      "03_data_import.ipynb     \u001b[34mcriteo_nbdev\u001b[m\u001b[m             setup.ipynb\n",
      "04_data_reader.ipynb     \u001b[34mdocs\u001b[m\u001b[m                     setup.py\n",
      "CONTRIBUTING.md          index.ipynb\n",
      "LICENSE                  install.sh\n"
     ]
    }
   ],
   "source": [
    "!ls"
   ]
  },
  {
   "cell_type": "code",
   "execution_count": 72,
   "metadata": {},
   "outputs": [],
   "source": [
    "#export\n",
    "import os\n",
    "import os.path\n",
    "\n",
    "#TODO: for cloud runs, need to copy file to cloud machine\n",
    "os.environ['GOOGLE_APPLICATION_CREDENTIALS']=os.path.join(os.getcwd(), SERVICE_ACCOUNT_KEY_FILE_NAME)\n",
    "os.environ['GRPC_DEFAULT_SSL_ROOTS_FILE_PATH']=os.path.join(os.getcwd(), 'roots.pem')\n"
   ]
  },
  {
   "cell_type": "markdown",
   "metadata": {},
   "source": [
    "## Install other dependencies"
   ]
  },
  {
   "cell_type": "code",
   "execution_count": null,
   "metadata": {},
   "outputs": [],
   "source": [
    "!pip install google-cloud\n",
    "!pip install google-cloud-bigquery\n",
    "!pip install tensorflow\n",
    "!pip install tensorflow-io"
   ]
  },
  {
   "cell_type": "code",
   "execution_count": 78,
   "metadata": {},
   "outputs": [
    {
     "name": "stdout",
     "output_type": "stream",
     "text": [
      "Collecting pandas\n",
      "\u001b[?25l  Downloading https://files.pythonhosted.org/packages/b3/1b/e918c9a762bd3de80d46348fda35d53d3e0276c4df9c04c13980242a4e7d/pandas-1.0.3-cp36-cp36m-macosx_10_9_x86_64.whl (10.2MB)\n",
      "\u001b[K     |████████████████████████████████| 10.2MB 2.9MB/s eta 0:00:01\n",
      "\u001b[?25hRequirement already satisfied: python-dateutil>=2.6.1 in /Library/Frameworks/Python.framework/Versions/3.6/lib/python3.6/site-packages (from pandas) (2.8.1)\n",
      "Requirement already satisfied: numpy>=1.13.3 in /Library/Frameworks/Python.framework/Versions/3.6/lib/python3.6/site-packages (from pandas) (1.17.3)\n",
      "Requirement already satisfied: pytz>=2017.2 in /Library/Frameworks/Python.framework/Versions/3.6/lib/python3.6/site-packages (from pandas) (2019.3)\n",
      "Requirement already satisfied: six>=1.5 in /Library/Frameworks/Python.framework/Versions/3.6/lib/python3.6/site-packages (from python-dateutil>=2.6.1->pandas) (1.13.0)\n",
      "Installing collected packages: pandas\n",
      "Successfully installed pandas-1.0.3\n",
      "\u001b[33mWARNING: You are using pip version 19.3.1; however, version 20.0.2 is available.\n",
      "You should consider upgrading via the 'pip install --upgrade pip' command.\u001b[0m\n"
     ]
    }
   ],
   "source": [
    "!pip install pandas"
   ]
  }
 ],
 "metadata": {
  "kernelspec": {
   "display_name": "Python 3",
   "language": "python",
   "name": "python3"
  },
  "language_info": {
   "codemirror_mode": {
    "name": "ipython",
    "version": 3
   },
   "file_extension": ".py",
   "mimetype": "text/x-python",
   "name": "python",
   "nbconvert_exporter": "python",
   "pygments_lexer": "ipython3",
   "version": "3.6.8"
  }
 },
 "nbformat": 4,
 "nbformat_minor": 4
}
