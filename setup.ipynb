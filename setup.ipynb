{
 "cells": [
  {
   "cell_type": "code",
   "execution_count": null,
   "metadata": {},
   "outputs": [],
   "source": [
    "# default_exp setup"
   ]
  },
  {
   "cell_type": "markdown",
   "metadata": {},
   "source": [
    "# Install gcp_runner"
   ]
  },
  {
   "cell_type": "code",
   "execution_count": null,
   "metadata": {},
   "outputs": [],
   "source": [
    "!git clone https://github.com/vlasenkoalexey/gcp_runner\n",
    "!pip install -e gcp_runner"
   ]
  },
  {
   "cell_type": "markdown",
   "metadata": {},
   "source": [
    "Test that gcp_runner works"
   ]
  },
  {
   "cell_type": "code",
   "execution_count": 3,
   "metadata": {},
   "outputs": [
    {
     "name": "stdout",
     "output_type": "stream",
     "text": [
      "importing tensorflow_io\n",
      "0.15.0\n",
      "importing tensorflow_io\n",
      "0.15.0\n"
     ]
    }
   ],
   "source": [
    "import gcp_runner.core\n",
    "gcp_runner.core.export_and_reload_all(silent=True)"
   ]
  },
  {
   "cell_type": "code",
   "execution_count": 5,
   "metadata": {},
   "outputs": [],
   "source": [
    "#export \n",
    "from criteo_nbdev.constants import *"
   ]
  },
  {
   "cell_type": "markdown",
   "metadata": {},
   "source": [
    "# Configure Google Cloud SDK\n",
    "## Install Google Cloud SDK\n",
    "\n",
    "See https://cloud.google.com/sdk/docs/downloads-interactive"
   ]
  },
  {
   "cell_type": "code",
   "execution_count": 2,
   "metadata": {},
   "outputs": [
    {
     "name": "stdout",
     "output_type": "stream",
     "text": [
      "  % Total    % Received % Xferd  Average Speed   Time    Time     Time  Current\n",
      "                                 Dload  Upload   Total   Spent    Left  Speed\n",
      "100   443  100   443    0     0   3545      0 --:--:-- --:--:-- --:--:--  3572\n"
     ]
    }
   ],
   "source": [
    "!curl https://sdk.cloud.google.com > install.sh"
   ]
  },
  {
   "cell_type": "code",
   "execution_count": 3,
   "metadata": {},
   "outputs": [
    {
     "name": "stdout",
     "output_type": "stream",
     "text": [
      "Downloading Google Cloud SDK install script: https://dl.google.com/dl/cloudsdk/channels/rapid/install_google_cloud_sdk.bash\n",
      "######################################################################## 100.0%\n",
      "Running install script from: /var/folders/0c/_9t2rb612zq01d325yh__5ph0069sb/T/tmp.XXXXXXXXXX.NqjaQrCj/install_google_cloud_sdk.bash\n",
      "which curl\n",
      "curl -# -f https://dl.google.com/dl/cloudsdk/channels/rapid/google-cloud-sdk.tar.gz\n",
      "######################################################################## 100.0%                      4.5%     5.6%   17.6%                                30.6%                  48.7%############                  78.5%################                 80.5%\n",
      "\n",
      "mkdir -p /Users/alekseyv\n",
      "\"/Users/alekseyv/google-cloud-sdk\" already exists and may contain out of date files.\n",
      "Remove /Users/alekseyv/google-cloud-sdk or select a new installation directory, then run again.\n"
     ]
    }
   ],
   "source": [
    "!bash install.sh --disable-prompts"
   ]
  },
  {
   "cell_type": "markdown",
   "metadata": {},
   "source": [
    "## Configure Project"
   ]
  },
  {
   "cell_type": "code",
   "execution_count": 2,
   "metadata": {},
   "outputs": [
    {
     "name": "stdout",
     "output_type": "stream",
     "text": [
      "Welcome! This command will take you through the configuration of gcloud.\n",
      "\n",
      "Settings from your current configuration [alekseyv-scalableai-dev] are:\n",
      "compute:\n",
      "  region: us-central1\n",
      "  zone: us-central1-a\n",
      "core:\n",
      "  account: alekseyv@google.com\n",
      "  disable_usage_reporting: 'False'\n",
      "  project: alekseyv-scalableai-dev\n",
      "\n",
      "Pick configuration to use:\n",
      " [1] Re-initialize this configuration [alekseyv-scalableai-dev] with new settings \n",
      " [2] Create a new configuration\n",
      " [3] Switch to and re-initialize existing configuration: [alekseyv-scalableai-test]\n",
      " [4] Switch to and re-initialize existing configuration: [default]\n",
      " [5] Switch to and re-initialize existing configuration: [dlvm]\n",
      "Please enter your numeric choice:  ^C\n",
      "\n",
      "\n",
      "Command killed by keyboard interrupt\n",
      "\n"
     ]
    }
   ],
   "source": [
    "!gcloud init"
   ]
  },
  {
   "cell_type": "code",
   "execution_count": 6,
   "metadata": {},
   "outputs": [
    {
     "name": "stdout",
     "output_type": "stream",
     "text": [
      "alekseyv-scalableai-dev\n"
     ]
    }
   ],
   "source": [
    "!echo $PROJECT_ID"
   ]
  },
  {
   "cell_type": "code",
   "execution_count": 7,
   "metadata": {},
   "outputs": [
    {
     "name": "stdout",
     "output_type": "stream",
     "text": [
      "Updated property [core/project].\n",
      "\n",
      "\n",
      "To take a quick anonymous survey, run:\n",
      "  $ gcloud survey\n",
      "\n"
     ]
    }
   ],
   "source": [
    "!gcloud config set project $PROJECT_ID"
   ]
  },
  {
   "cell_type": "code",
   "execution_count": 75,
   "metadata": {},
   "outputs": [],
   "source": [
    "!gcloud services enable bigquery.googleapis.com\n",
    "!gcloud services enable bigquerystorage.googleapis.com\n",
    "!gcloud services enable container.googleapis.com\n",
    "!gcloud services enable ml.googleapis.com\n",
    "!gcloud services enable storage-api.googleapis.com\n",
    "!gcloud services enable storage-component.googleapis.com\n",
    "!gcloud services enable tpu.googleapis.com"
   ]
  },
  {
   "cell_type": "markdown",
   "metadata": {},
   "source": [
    "## Download and configure service account key\n",
    "\n",
    "See https://cloud.google.com/iam/docs/creating-managing-service-account-keys#iam-service-account-keys-create-gcloud"
   ]
  },
  {
   "cell_type": "code",
   "execution_count": 8,
   "metadata": {},
   "outputs": [
    {
     "data": {
      "text/plain": [
       "'alekseyv-service@alekseyv-scalableai-dev.iam.gserviceaccount.com'"
      ]
     },
     "execution_count": 8,
     "metadata": {},
     "output_type": "execute_result"
    }
   ],
   "source": [
    "user_name = !echo $USER\n",
    "iam_account = '{user_name}-service@{project_id}.iam.gserviceaccount.com'.format(user_name=user_name[0], project_id=PROJECT_ID)\n",
    "iam_account"
   ]
  },
  {
   "cell_type": "code",
   "execution_count": 9,
   "metadata": {},
   "outputs": [
    {
     "name": "stdout",
     "output_type": "stream",
     "text": [
      "created key [8cfab6de637fdbd7c02ca8d43b5c104ddf058dc9] of type [json] as [./service_account_key.json] for [alekseyv-service@alekseyv-scalableai-dev.iam.gserviceaccount.com]\n"
     ]
    }
   ],
   "source": [
    "!gcloud iam service-accounts keys create ./$SERVICE_ACCOUNT_KEY_FILE_NAME --iam-account=$iam_account"
   ]
  },
  {
   "cell_type": "code",
   "execution_count": 10,
   "metadata": {},
   "outputs": [
    {
     "name": "stdout",
     "output_type": "stream",
     "text": [
      "Copying file://./service_account_key.json [Content-Type=application/json]...\n",
      "/ [1 files][  2.3 KiB/  2.3 KiB]                                                \n",
      "Operation completed over 1 objects/2.3 KiB.                                      \n"
     ]
    }
   ],
   "source": [
    "!gsutil cp ./$SERVICE_ACCOUNT_KEY_FILE_NAME $PRIVATE_GCS_BUCKET"
   ]
  },
  {
   "cell_type": "code",
   "execution_count": 11,
   "metadata": {},
   "outputs": [
    {
     "name": "stdout",
     "output_type": "stream",
     "text": [
      "  % Total    % Received % Xferd  Average Speed   Time    Time     Time  Current\n",
      "                                 Dload  Upload   Total   Spent    Left  Speed\n",
      "100  277k  100  277k    0     0   799k      0 --:--:-- --:--:-- --:--:--     0--:-- --:--:-- --:--:--  799k\n"
     ]
    }
   ],
   "source": [
    "!curl https://raw.githubusercontent.com/grpc/grpc/master/etc/roots.pem -o ./roots.pem"
   ]
  },
  {
   "cell_type": "code",
   "execution_count": 12,
   "metadata": {},
   "outputs": [
    {
     "name": "stdout",
     "output_type": "stream",
     "text": [
      "00_core.ipynb\t\tCONTRIBUTING.md  MANIFEST.in\n",
      "01_constants.ipynb\tcriteo_nbdev\t README.md\n",
      "02_data_download.ipynb\tDockerfile\t roots.pem\n",
      "03_data_import.ipynb\tdocs\t\t service_account_key.json\n",
      "04_data_reader.ipynb\tindex.ipynb\t settings.ini\n",
      "05_trainer.ipynb\tLICENSE\t\t setup.ipynb\n",
      "10_entry_point.ipynb\tMakefile\t setup.py\n"
     ]
    }
   ],
   "source": [
    "!ls"
   ]
  },
  {
   "cell_type": "code",
   "execution_count": 3,
   "metadata": {},
   "outputs": [
    {
     "data": {
      "text/plain": [
       "'/Users/alekseyv/vlasenkoalexey/criteo_nbdev/service_account_key.json'"
      ]
     },
     "execution_count": 3,
     "metadata": {},
     "output_type": "execute_result"
    }
   ],
   "source": [
    "#export\n",
    "import os\n",
    "import os.path\n",
    "from criteo_nbdev.constants import *\n",
    "\n",
    "#TODO: for cloud runs, need to copy file to cloud machine\n",
    "os.environ['GOOGLE_APPLICATION_CREDENTIALS']=os.path.join(os.getcwd(), SERVICE_ACCOUNT_KEY_FILE_NAME)\n",
    "os.environ['GRPC_DEFAULT_SSL_ROOTS_FILE_PATH']=os.path.join(os.getcwd(), 'roots.pem')\n"
   ]
  },
  {
   "cell_type": "markdown",
   "metadata": {},
   "source": [
    "## Install other dependencies"
   ]
  },
  {
   "cell_type": "code",
   "execution_count": 2,
   "metadata": {},
   "outputs": [
    {
     "name": "stdout",
     "output_type": "stream",
     "text": [
      "Defaulting to user installation because normal site-packages is not writeable\n",
      "Requirement already satisfied: google-cloud in /usr/local/google/home/alekseyv/.local/lib/python3.8/site-packages (0.34.0)\n",
      "\u001b[33mWARNING: You are using pip version 20.1.1; however, version 20.2.2 is available.\n",
      "You should consider upgrading via the '/usr/bin/python3 -m pip install --upgrade pip' command.\u001b[0m\n",
      "Defaulting to user installation because normal site-packages is not writeable\n",
      "Requirement already satisfied: google-cloud-bigquery in /usr/local/google/home/alekseyv/.local/lib/python3.8/site-packages (1.26.1)\n",
      "Requirement already satisfied: google-resumable-media<2.0dev,>=0.5.0 in /usr/local/google/home/alekseyv/.local/lib/python3.8/site-packages (from google-cloud-bigquery) (0.7.1)\n",
      "Requirement already satisfied: google-api-core<2.0dev,>=1.21.0 in /usr/local/google/home/alekseyv/.local/lib/python3.8/site-packages (from google-cloud-bigquery) (1.22.1)\n",
      "Requirement already satisfied: six<2.0.0dev,>=1.13.0 in /usr/lib/python3/dist-packages (from google-cloud-bigquery) (1.15.0)\n",
      "Requirement already satisfied: google-cloud-core<2.0dev,>=1.1.0 in /usr/local/google/home/alekseyv/.local/lib/python3.8/site-packages (from google-cloud-bigquery) (1.4.1)\n",
      "Requirement already satisfied: google-crc32c<0.2dev,>=0.1.0; python_version >= \"3.5\" in /usr/local/google/home/alekseyv/.local/lib/python3.8/site-packages (from google-resumable-media<2.0dev,>=0.5.0->google-cloud-bigquery) (0.1.0)\n",
      "Requirement already satisfied: googleapis-common-protos<2.0dev,>=1.6.0 in /usr/local/google/home/alekseyv/.local/lib/python3.8/site-packages (from google-api-core<2.0dev,>=1.21.0->google-cloud-bigquery) (1.52.0)\n",
      "Requirement already satisfied: pytz in /usr/lib/python3/dist-packages (from google-api-core<2.0dev,>=1.21.0->google-cloud-bigquery) (2020.1)\n",
      "Requirement already satisfied: requests<3.0.0dev,>=2.18.0 in /usr/lib/python3/dist-packages (from google-api-core<2.0dev,>=1.21.0->google-cloud-bigquery) (2.23.0)\n",
      "Requirement already satisfied: google-auth<2.0dev,>=1.19.1 in /usr/local/google/home/alekseyv/.local/lib/python3.8/site-packages (from google-api-core<2.0dev,>=1.21.0->google-cloud-bigquery) (1.20.1)\n",
      "Requirement already satisfied: protobuf>=3.12.0 in /usr/local/google/home/alekseyv/.local/lib/python3.8/site-packages (from google-api-core<2.0dev,>=1.21.0->google-cloud-bigquery) (3.12.4)\n",
      "Requirement already satisfied: setuptools>=34.0.0 in /usr/lib/python3/dist-packages (from google-api-core<2.0dev,>=1.21.0->google-cloud-bigquery) (46.1.3)\n",
      "Requirement already satisfied: cffi>=1.0.0 in /usr/local/google/home/alekseyv/.local/lib/python3.8/site-packages (from google-crc32c<0.2dev,>=0.1.0; python_version >= \"3.5\"->google-resumable-media<2.0dev,>=0.5.0->google-cloud-bigquery) (1.14.1)\n",
      "Requirement already satisfied: cachetools<5.0,>=2.0.0 in /usr/local/google/home/alekseyv/.local/lib/python3.8/site-packages (from google-auth<2.0dev,>=1.19.1->google-api-core<2.0dev,>=1.21.0->google-cloud-bigquery) (4.1.1)\n",
      "Requirement already satisfied: pyasn1-modules>=0.2.1 in /usr/lib/python3/dist-packages (from google-auth<2.0dev,>=1.19.1->google-api-core<2.0dev,>=1.21.0->google-cloud-bigquery) (0.2.1)\n",
      "Requirement already satisfied: rsa<5,>=3.1.4; python_version >= \"3.5\" in /usr/local/google/home/alekseyv/.local/lib/python3.8/site-packages (from google-auth<2.0dev,>=1.19.1->google-api-core<2.0dev,>=1.21.0->google-cloud-bigquery) (4.6)\n",
      "Requirement already satisfied: pycparser in /usr/local/google/home/alekseyv/.local/lib/python3.8/site-packages (from cffi>=1.0.0->google-crc32c<0.2dev,>=0.1.0; python_version >= \"3.5\"->google-resumable-media<2.0dev,>=0.5.0->google-cloud-bigquery) (2.20)\n",
      "Requirement already satisfied: pyasn1>=0.1.3 in /usr/lib/python3/dist-packages (from rsa<5,>=3.1.4; python_version >= \"3.5\"->google-auth<2.0dev,>=1.19.1->google-api-core<2.0dev,>=1.21.0->google-cloud-bigquery) (0.4.2)\n",
      "\u001b[33mWARNING: You are using pip version 20.1.1; however, version 20.2.2 is available.\n",
      "You should consider upgrading via the '/usr/bin/python3 -m pip install --upgrade pip' command.\u001b[0m\n",
      "Defaulting to user installation because normal site-packages is not writeable\n",
      "Requirement already satisfied: matplotlib in /usr/local/google/home/alekseyv/.local/lib/python3.8/site-packages (3.2.2)\n",
      "Requirement already satisfied: python-dateutil>=2.1 in /usr/local/google/home/alekseyv/.local/lib/python3.8/site-packages (from matplotlib) (2.8.1)\n",
      "Requirement already satisfied: pyparsing!=2.0.4,!=2.1.2,!=2.1.6,>=2.0.1 in /usr/lib/python3/dist-packages (from matplotlib) (2.4.7)\n",
      "Requirement already satisfied: numpy>=1.11 in /usr/local/google/home/alekseyv/.local/lib/python3.8/site-packages (from matplotlib) (1.18.5)\n",
      "Requirement already satisfied: cycler>=0.10 in /usr/local/google/home/alekseyv/.local/lib/python3.8/site-packages (from matplotlib) (0.10.0)\n",
      "Requirement already satisfied: kiwisolver>=1.0.1 in /usr/local/google/home/alekseyv/.local/lib/python3.8/site-packages (from matplotlib) (1.2.0)\n",
      "Requirement already satisfied: six>=1.5 in /usr/lib/python3/dist-packages (from python-dateutil>=2.1->matplotlib) (1.15.0)\n",
      "\u001b[33mWARNING: You are using pip version 20.1.1; however, version 20.2.2 is available.\n",
      "You should consider upgrading via the '/usr/bin/python3 -m pip install --upgrade pip' command.\u001b[0m\n",
      "Defaulting to user installation because normal site-packages is not writeable\n",
      "Collecting tensorflow-gpu\n",
      "  Downloading tensorflow_gpu-2.3.0-cp38-cp38-manylinux2010_x86_64.whl (320.5 MB)\n",
      "\u001b[K     |████████████████████████████    | 281.2 MB 43.8 MB/s eta 0:00:012 |                                | 337 kB 7.0 MB/s eta 0:00:46[K     |█████████████████▎              | 172.7 MB 106.7 MB/s eta 0:00:02     |████████████████████▌           | 205.4 MB 90.5 MB/s eta 0:00:02        | 223.1 MB 90.5 MB/s eta 0:00:02     |████████████████████████        | 240.4 MB 90.5 MB/s eta 0:00:01██████████████████████▋       | 246.1 MB 90.5 MB/s eta 0:00:01     |██████████████████████████▊     | 267.4 MB 90.5 MB/s eta 0:00:01��███████████████████     | 271.3 MB 90.5 MB/s eta 0:00:01"
     ]
    },
    {
     "name": "stderr",
     "output_type": "stream",
     "text": [
      "IOPub data rate exceeded.\n",
      "The notebook server will temporarily stop sending output\n",
      "to the client in order to avoid crashing it.\n",
      "To change this limit, set the config variable\n",
      "`--NotebookApp.iopub_data_rate_limit`.\n",
      "\n",
      "Current values:\n",
      "NotebookApp.iopub_data_rate_limit=1000000.0 (bytes/sec)\n",
      "NotebookApp.rate_limit_window=3.0 (secs)\n",
      "\n"
     ]
    },
    {
     "name": "stdout",
     "output_type": "stream",
     "text": [
      "\u001b[K     |████████████████████████████████| 320.5 MB 3.7 kB/s \n",
      "\u001b[?25hRequirement already satisfied: astunparse==1.6.3 in /usr/local/google/home/alekseyv/.local/lib/python3.8/site-packages (from tensorflow-gpu) (1.6.3)\n",
      "Requirement already satisfied: wrapt>=1.11.1 in /usr/local/google/home/alekseyv/.local/lib/python3.8/site-packages (from tensorflow-gpu) (1.12.1)\n",
      "Requirement already satisfied: numpy<1.19.0,>=1.16.0 in /usr/local/google/home/alekseyv/.local/lib/python3.8/site-packages (from tensorflow-gpu) (1.18.5)\n",
      "Requirement already satisfied: scipy==1.4.1 in /usr/local/google/home/alekseyv/.local/lib/python3.8/site-packages (from tensorflow-gpu) (1.4.1)\n",
      "Requirement already satisfied: tensorboard<3,>=2.3.0 in /usr/local/google/home/alekseyv/.local/lib/python3.8/site-packages (from tensorflow-gpu) (2.3.0)\n",
      "Requirement already satisfied: keras-preprocessing<1.2,>=1.1.1 in /usr/local/google/home/alekseyv/.local/lib/python3.8/site-packages (from tensorflow-gpu) (1.1.2)\n",
      "Requirement already satisfied: absl-py>=0.7.0 in /usr/local/google/home/alekseyv/.local/lib/python3.8/site-packages (from tensorflow-gpu) (0.9.0)\n",
      "Requirement already satisfied: opt-einsum>=2.3.2 in /usr/local/google/home/alekseyv/.local/lib/python3.8/site-packages (from tensorflow-gpu) (3.2.1)\n",
      "Requirement already satisfied: gast==0.3.3 in /usr/local/google/home/alekseyv/.local/lib/python3.8/site-packages (from tensorflow-gpu) (0.3.3)\n",
      "Requirement already satisfied: tensorflow-estimator<2.4.0,>=2.3.0 in /usr/local/google/home/alekseyv/.local/lib/python3.8/site-packages (from tensorflow-gpu) (2.3.0)\n",
      "Requirement already satisfied: h5py<2.11.0,>=2.10.0 in /usr/local/google/home/alekseyv/.local/lib/python3.8/site-packages (from tensorflow-gpu) (2.10.0)\n",
      "Requirement already satisfied: termcolor>=1.1.0 in /usr/local/google/home/alekseyv/.local/lib/python3.8/site-packages (from tensorflow-gpu) (1.1.0)\n",
      "Requirement already satisfied: six>=1.12.0 in /usr/lib/python3/dist-packages (from tensorflow-gpu) (1.15.0)\n",
      "Requirement already satisfied: google-pasta>=0.1.8 in /usr/local/google/home/alekseyv/.local/lib/python3.8/site-packages (from tensorflow-gpu) (0.2.0)\n",
      "Requirement already satisfied: wheel>=0.26 in /usr/local/google/home/alekseyv/.local/lib/python3.8/site-packages (from tensorflow-gpu) (0.34.2)\n",
      "Requirement already satisfied: grpcio>=1.8.6 in /usr/local/google/home/alekseyv/.local/lib/python3.8/site-packages (from tensorflow-gpu) (1.30.0)\n",
      "Requirement already satisfied: protobuf>=3.9.2 in /usr/local/google/home/alekseyv/.local/lib/python3.8/site-packages (from tensorflow-gpu) (3.12.4)\n",
      "Requirement already satisfied: markdown>=2.6.8 in /usr/local/google/home/alekseyv/.local/lib/python3.8/site-packages (from tensorboard<3,>=2.3.0->tensorflow-gpu) (3.2.2)\n",
      "Requirement already satisfied: tensorboard-plugin-wit>=1.6.0 in /usr/local/google/home/alekseyv/.local/lib/python3.8/site-packages (from tensorboard<3,>=2.3.0->tensorflow-gpu) (1.7.0)\n",
      "Requirement already satisfied: google-auth<2,>=1.6.3 in /usr/local/google/home/alekseyv/.local/lib/python3.8/site-packages (from tensorboard<3,>=2.3.0->tensorflow-gpu) (1.20.1)\n",
      "Requirement already satisfied: requests<3,>=2.21.0 in /usr/lib/python3/dist-packages (from tensorboard<3,>=2.3.0->tensorflow-gpu) (2.23.0)\n",
      "Requirement already satisfied: setuptools>=41.0.0 in /usr/lib/python3/dist-packages (from tensorboard<3,>=2.3.0->tensorflow-gpu) (46.1.3)\n",
      "Requirement already satisfied: google-auth-oauthlib<0.5,>=0.4.1 in /usr/local/google/home/alekseyv/.local/lib/python3.8/site-packages (from tensorboard<3,>=2.3.0->tensorflow-gpu) (0.4.1)\n",
      "Requirement already satisfied: werkzeug>=0.11.15 in /usr/local/google/home/alekseyv/.local/lib/python3.8/site-packages (from tensorboard<3,>=2.3.0->tensorflow-gpu) (1.0.1)\n",
      "Requirement already satisfied: rsa<5,>=3.1.4; python_version >= \"3.5\" in /usr/local/google/home/alekseyv/.local/lib/python3.8/site-packages (from google-auth<2,>=1.6.3->tensorboard<3,>=2.3.0->tensorflow-gpu) (4.6)\n",
      "Requirement already satisfied: pyasn1-modules>=0.2.1 in /usr/lib/python3/dist-packages (from google-auth<2,>=1.6.3->tensorboard<3,>=2.3.0->tensorflow-gpu) (0.2.1)\n",
      "Requirement already satisfied: cachetools<5.0,>=2.0.0 in /usr/local/google/home/alekseyv/.local/lib/python3.8/site-packages (from google-auth<2,>=1.6.3->tensorboard<3,>=2.3.0->tensorflow-gpu) (4.1.1)\n",
      "Requirement already satisfied: requests-oauthlib>=0.7.0 in /usr/local/google/home/alekseyv/.local/lib/python3.8/site-packages (from google-auth-oauthlib<0.5,>=0.4.1->tensorboard<3,>=2.3.0->tensorflow-gpu) (1.3.0)\n",
      "Requirement already satisfied: pyasn1>=0.1.3 in /usr/lib/python3/dist-packages (from rsa<5,>=3.1.4; python_version >= \"3.5\"->google-auth<2,>=1.6.3->tensorboard<3,>=2.3.0->tensorflow-gpu) (0.4.2)\n",
      "Requirement already satisfied: oauthlib>=3.0.0 in /usr/lib/python3/dist-packages (from requests-oauthlib>=0.7.0->google-auth-oauthlib<0.5,>=0.4.1->tensorboard<3,>=2.3.0->tensorflow-gpu) (3.1.0)\n",
      "Installing collected packages: tensorflow-gpu\n",
      "Successfully installed tensorflow-gpu-2.3.0\n",
      "\u001b[33mWARNING: You are using pip version 20.1.1; however, version 20.2.2 is available.\n",
      "You should consider upgrading via the '/usr/bin/python3 -m pip install --upgrade pip' command.\u001b[0m\n",
      "Defaulting to user installation because normal site-packages is not writeable\n",
      "Requirement already satisfied: tensorflow-io in /usr/local/google/home/alekseyv/.local/lib/python3.8/site-packages (0.15.0)\n",
      "\u001b[33mWARNING: You are using pip version 20.1.1; however, version 20.2.2 is available.\n",
      "You should consider upgrading via the '/usr/bin/python3 -m pip install --upgrade pip' command.\u001b[0m\n",
      "Defaulting to user installation because normal site-packages is not writeable\n",
      "Collecting tensorflow-addons\n",
      "  Downloading tensorflow_addons-0.11.2-cp38-cp38-manylinux2010_x86_64.whl (1.1 MB)\n",
      "\u001b[K     |████████████████████████████████| 1.1 MB 16.8 MB/s eta 0:00:01\n",
      "\u001b[?25hInstalling collected packages: tensorflow-addons\n",
      "Successfully installed tensorflow-addons-0.11.2\n",
      "\u001b[33mWARNING: You are using pip version 20.1.1; however, version 20.2.2 is available.\n",
      "You should consider upgrading via the '/usr/bin/python3 -m pip install --upgrade pip' command.\u001b[0m\n",
      "Defaulting to user installation because normal site-packages is not writeable\n",
      "Collecting keras-tuner\n",
      "  Using cached keras-tuner-1.0.1.tar.gz (54 kB)\n",
      "Collecting colorama\n",
      "  Using cached colorama-0.4.3-py2.py3-none-any.whl (15 kB)\n",
      "Requirement already satisfied: future in /usr/lib/python3/dist-packages (from keras-tuner) (0.18.2)\n",
      "Requirement already satisfied: numpy in /usr/local/google/home/alekseyv/.local/lib/python3.8/site-packages (from keras-tuner) (1.18.5)\n",
      "Requirement already satisfied: requests in /usr/lib/python3/dist-packages (from keras-tuner) (2.23.0)\n",
      "Collecting scikit-learn\n",
      "  Downloading scikit_learn-0.23.2-cp38-cp38-manylinux1_x86_64.whl (6.8 MB)\n",
      "\u001b[K     |████████████████████████████████| 6.8 MB 6.0 MB/s eta 0:00:01\n",
      "\u001b[?25hRequirement already satisfied: scipy in /usr/local/google/home/alekseyv/.local/lib/python3.8/site-packages (from keras-tuner) (1.4.1)\n",
      "Collecting tabulate\n",
      "  Downloading tabulate-0.8.7-py3-none-any.whl (24 kB)\n",
      "Collecting terminaltables\n",
      "  Using cached terminaltables-3.1.0.tar.gz (12 kB)\n",
      "Collecting tqdm\n",
      "  Downloading tqdm-4.48.2-py2.py3-none-any.whl (68 kB)\n",
      "\u001b[K     |████████████████████████████████| 68 kB 8.6 MB/s  eta 0:00:01\n",
      "\u001b[?25hCollecting joblib>=0.11\n",
      "  Downloading joblib-0.16.0-py3-none-any.whl (300 kB)\n",
      "\u001b[K     |████████████████████████████████| 300 kB 39.8 MB/s eta 0:00:01\n",
      "\u001b[?25hCollecting threadpoolctl>=2.0.0\n",
      "  Downloading threadpoolctl-2.1.0-py3-none-any.whl (12 kB)\n",
      "Building wheels for collected packages: keras-tuner, terminaltables\n",
      "  Building wheel for keras-tuner (setup.py) ... \u001b[?25ldone\n",
      "\u001b[?25h  Created wheel for keras-tuner: filename=keras_tuner-1.0.1-py3-none-any.whl size=73196 sha256=e82397fecd678dc2d52d2d039c392c5b3c019d5f3223d2741496f116a1d41393\n",
      "  Stored in directory: /usr/local/google/home/alekseyv/.cache/pip/wheels/62/84/96/51c62791835c5185b9f66e915e19ae7c20f3d8c40443b3e9fa\n",
      "  Building wheel for terminaltables (setup.py) ... \u001b[?25ldone\n",
      "\u001b[?25h  Created wheel for terminaltables: filename=terminaltables-3.1.0-py3-none-any.whl size=15354 sha256=1af18de7190e94c0db43bc7895fed4f27bfb73d6ad19c1cac9f6ecd7e01de7b9\n",
      "  Stored in directory: /usr/local/google/home/alekseyv/.cache/pip/wheels/08/8f/5f/253d0105a55bd84ee61ef0d37dbf70421e61e0cd70cef7c5e1\n",
      "Successfully built keras-tuner terminaltables\n",
      "Installing collected packages: colorama, joblib, threadpoolctl, scikit-learn, tabulate, terminaltables, tqdm, keras-tuner\n",
      "Successfully installed colorama-0.4.3 joblib-0.16.0 keras-tuner-1.0.1 scikit-learn-0.23.2 tabulate-0.8.7 terminaltables-3.1.0 threadpoolctl-2.1.0 tqdm-4.48.2\n",
      "\u001b[33mWARNING: You are using pip version 20.1.1; however, version 20.2.2 is available.\n",
      "You should consider upgrading via the '/usr/bin/python3 -m pip install --upgrade pip' command.\u001b[0m\n"
     ]
    }
   ],
   "source": [
    "!pip install google-cloud\n",
    "!pip install google-cloud-bigquery\n",
    "!pip install matplotlib\n",
    "!pip install pandas\n",
    "!pip install tensorflow-gpu\n",
    "!pip install --no-deps tensorflow-io\n",
    "!pip install --no-deps tensorflow-addons\n",
    "!pip install keras-tuner"
   ]
  },
  {
   "cell_type": "markdown",
   "metadata": {},
   "source": [
    "## Configure Kubernetes (Optional)\n",
    "\n",
    "If you plan to run sample on Google Cloud Kubernetes, you need to create a cluster, and configure it.\n",
    "\n",
    "In Google Cloud Console for your project, navigate to Kubernetes page and create a cluster. \n",
    "Here you can select number of nodes, CPU, memory, and HDD size for each node.\n",
    "You can also attach GPUs and TPUs.\n",
    "\n",
    "Same can be achieved using ```gcloud beta container clusters create``` command, but it usually easier to do it from Console.\n",
    "\n",
    "Once your cluster is created run following command to configure Google Cloud SDK to use it:\n",
    "\n",
    "```sh\n",
    "gcloud container clusters get-credentials <cluster name> --region=<region name>\n",
    "```\n",
    "\n",
    "If you plan to use GPUs, you also need to install NVIDIA drivers:\n",
    "https://cloud.google.com/kubernetes-engine/docs/how-to/gpus#installing_drivers\n",
    "\n",
    "```sh\n",
    "kubectl apply -f https://raw.githubusercontent.com/GoogleCloudPlatform/container-engine-accelerators/master/nvidia-driver-installer/cos/daemonset-preloaded.yaml\n",
    "```\n",
    "\n",
    "If you want to use TPUs, you'll need to grant TPU permission to your service account. \n",
    "\n",
    "Follow this instructions:\n",
    "https://cloud.google.com/tpu/docs/kubernetes-engine-setup\n",
    "https://cloud.google.com/ml-engine/docs/tensorflow/using-tpus "
   ]
  },
  {
   "cell_type": "code",
   "execution_count": null,
   "metadata": {},
   "outputs": [],
   "source": []
  }
 ],
 "metadata": {
  "kernelspec": {
   "display_name": "Python 3",
   "language": "python",
   "name": "python3"
  },
  "language_info": {
   "codemirror_mode": {
    "name": "ipython",
    "version": 3
   },
   "file_extension": ".py",
   "mimetype": "text/x-python",
   "name": "python",
   "nbconvert_exporter": "python",
   "pygments_lexer": "ipython3",
   "version": "3.8.5"
  }
 },
 "nbformat": 4,
 "nbformat_minor": 4
}
