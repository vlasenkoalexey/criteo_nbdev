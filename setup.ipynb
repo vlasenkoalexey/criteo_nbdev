{
 "cells": [
  {
   "cell_type": "code",
   "execution_count": null,
   "metadata": {},
   "outputs": [],
   "source": [
    "# default_exp setup"
   ]
  },
  {
   "cell_type": "code",
   "execution_count": 77,
   "metadata": {},
   "outputs": [],
   "source": [
    "import gcp_runner.core\n",
    "gcp_runner.core.export_and_reload_all(silent=True)"
   ]
  },
  {
   "cell_type": "code",
   "execution_count": 76,
   "metadata": {},
   "outputs": [],
   "source": [
    "#export \n",
    "from criteo_nbdev.constants import *"
   ]
  },
  {
   "cell_type": "markdown",
   "metadata": {},
   "source": [
    "# Configure Google Cloud SDK\n",
    "## Install Google Cloud SDK\n",
    "\n",
    "See https://cloud.google.com/sdk/docs/downloads-interactive"
   ]
  },
  {
   "cell_type": "code",
   "execution_count": 2,
   "metadata": {},
   "outputs": [
    {
     "name": "stdout",
     "output_type": "stream",
     "text": [
      "  % Total    % Received % Xferd  Average Speed   Time    Time     Time  Current\n",
      "                                 Dload  Upload   Total   Spent    Left  Speed\n",
      "100   443  100   443    0     0   3545      0 --:--:-- --:--:-- --:--:--  3572\n"
     ]
    }
   ],
   "source": [
    "!curl https://sdk.cloud.google.com > install.sh"
   ]
  },
  {
   "cell_type": "code",
   "execution_count": 3,
   "metadata": {},
   "outputs": [
    {
     "name": "stdout",
     "output_type": "stream",
     "text": [
      "Downloading Google Cloud SDK install script: https://dl.google.com/dl/cloudsdk/channels/rapid/install_google_cloud_sdk.bash\n",
      "######################################################################## 100.0%\n",
      "Running install script from: /var/folders/0c/_9t2rb612zq01d325yh__5ph0069sb/T/tmp.XXXXXXXXXX.NqjaQrCj/install_google_cloud_sdk.bash\n",
      "which curl\n",
      "curl -# -f https://dl.google.com/dl/cloudsdk/channels/rapid/google-cloud-sdk.tar.gz\n",
      "######################################################################## 100.0%                      4.5%     5.6%   17.6%                                30.6%                  48.7%############                  78.5%################                 80.5%\n",
      "\n",
      "mkdir -p /Users/alekseyv\n",
      "\"/Users/alekseyv/google-cloud-sdk\" already exists and may contain out of date files.\n",
      "Remove /Users/alekseyv/google-cloud-sdk or select a new installation directory, then run again.\n"
     ]
    }
   ],
   "source": [
    "!bash install.sh --disable-prompts"
   ]
  },
  {
   "cell_type": "markdown",
   "metadata": {},
   "source": [
    "## Configure Project"
   ]
  },
  {
   "cell_type": "code",
   "execution_count": null,
   "metadata": {},
   "outputs": [],
   "source": [
    "!gcloud init"
   ]
  },
  {
   "cell_type": "code",
   "execution_count": 15,
   "metadata": {},
   "outputs": [
    {
     "name": "stdout",
     "output_type": "stream",
     "text": [
      "alekseyv-scalableai-dev\n"
     ]
    }
   ],
   "source": [
    "!echo $PROJECT_ID"
   ]
  },
  {
   "cell_type": "code",
   "execution_count": 74,
   "metadata": {},
   "outputs": [
    {
     "name": "stdout",
     "output_type": "stream",
     "text": [
      "Updated property [core/project].\n"
     ]
    }
   ],
   "source": [
    "!gcloud config set project $PROJECT_ID"
   ]
  },
  {
   "cell_type": "code",
   "execution_count": 75,
   "metadata": {},
   "outputs": [],
   "source": [
    "!gcloud services enable bigquery.googleapis.com\n",
    "!gcloud services enable bigquerystorage.googleapis.com\n",
    "!gcloud services enable container.googleapis.com\n",
    "!gcloud services enable ml.googleapis.com\n",
    "!gcloud services enable storage-api.googleapis.com\n",
    "!gcloud services enable storage-component.googleapis.com\n",
    "!gcloud services enable tpu.googleapis.com"
   ]
  },
  {
   "cell_type": "markdown",
   "metadata": {},
   "source": [
    "## Download and configure service account key\n",
    "\n",
    "See https://cloud.google.com/iam/docs/creating-managing-service-account-keys#iam-service-account-keys-create-gcloud"
   ]
  },
  {
   "cell_type": "code",
   "execution_count": 44,
   "metadata": {},
   "outputs": [
    {
     "data": {
      "text/plain": [
       "'alekseyv-service@alekseyv-scalableai-dev.iam.gserviceaccount.com'"
      ]
     },
     "execution_count": 44,
     "metadata": {},
     "output_type": "execute_result"
    }
   ],
   "source": [
    "user_name = !echo $USER\n",
    "iam_account = '{user_name}-service@{project_id}.iam.gserviceaccount.com'.format(user_name=user_name[0], project_id=PROJECT_ID)\n",
    "iam_account"
   ]
  },
  {
   "cell_type": "code",
   "execution_count": 50,
   "metadata": {},
   "outputs": [
    {
     "name": "stdout",
     "output_type": "stream",
     "text": [
      "created key [7754ec6da57f9f5c55a471209c34b0fb640c1fa1] of type [json] as [./service_account_key.json] for [alekseyv-service@alekseyv-scalableai-dev.iam.gserviceaccount.com]\n"
     ]
    }
   ],
   "source": [
    "!gcloud iam service-accounts keys create ./$SERVICE_ACCOUNT_KEY_FILE_NAME --iam-account=$iam_account"
   ]
  },
  {
   "cell_type": "code",
   "execution_count": 73,
   "metadata": {},
   "outputs": [
    {
     "name": "stdout",
     "output_type": "stream",
     "text": [
      "Copying file://./service_account_key.json [Content-Type=application/json]...\n",
      "- [1 files][  2.3 KiB/  2.3 KiB]                                                \n",
      "Operation completed over 1 objects/2.3 KiB.                                      \n"
     ]
    }
   ],
   "source": [
    "!gsutil cp ./$SERVICE_ACCOUNT_KEY_FILE_NAME $PRIVATE_GCS_BUCKET"
   ]
  },
  {
   "cell_type": "code",
   "execution_count": 2,
   "metadata": {},
   "outputs": [
    {
     "name": "stdout",
     "output_type": "stream",
     "text": [
      "  % Total    % Received % Xferd  Average Speed   Time    Time     Time  Current\n",
      "                                 Dload  Upload   Total   Spent    Left  Speed\n",
      "100  277k  100  277k    0     0   110k      0  0:00:02  0:00:02 --:--:--  110k\n"
     ]
    }
   ],
   "source": [
    "!curl https://raw.githubusercontent.com/grpc/grpc/master/etc/roots.pem -o ./roots.pem"
   ]
  },
  {
   "cell_type": "code",
   "execution_count": 3,
   "metadata": {},
   "outputs": [
    {
     "name": "stdout",
     "output_type": "stream",
     "text": [
      "00_core.ipynb            MANIFEST.in              roots.pem\n",
      "01_constants.ipynb       Makefile                 service_account_key.json\n",
      "02_data_download.ipynb   README.md                settings.ini\n",
      "03_data_import.ipynb     \u001b[34mcriteo_nbdev\u001b[m\u001b[m             setup.ipynb\n",
      "04_data_reader.ipynb     \u001b[34mdocs\u001b[m\u001b[m                     setup.py\n",
      "CONTRIBUTING.md          index.ipynb\n",
      "LICENSE                  install.sh\n"
     ]
    }
   ],
   "source": [
    "!ls"
   ]
  },
  {
   "cell_type": "code",
   "execution_count": 72,
   "metadata": {},
   "outputs": [],
   "source": [
    "#export\n",
    "import os\n",
    "import os.path\n",
    "\n",
    "#TODO: for cloud runs, need to copy file to cloud machine\n",
    "os.environ['GOOGLE_APPLICATION_CREDENTIALS']=os.path.join(os.getcwd(), SERVICE_ACCOUNT_KEY_FILE_NAME)\n",
    "os.environ['GRPC_DEFAULT_SSL_ROOTS_FILE_PATH']=os.path.join(os.getcwd(), 'roots.pem')\n"
   ]
  },
  {
   "cell_type": "markdown",
   "metadata": {},
   "source": [
    "## Install other dependencies"
   ]
  },
  {
   "cell_type": "code",
   "execution_count": null,
   "metadata": {},
   "outputs": [],
   "source": [
    "!pip install google-cloud\n",
    "!pip install google-cloud-bigquery\n",
    "!pip install tensorflow-gpu\n",
    "!pip install --no-deps tensorflow-io\n",
    "!pip install matplotlib"
   ]
  },
  {
   "cell_type": "markdown",
   "metadata": {},
   "source": [
    "## Configure Kubernetes (Optional)\n",
    "\n",
    "If you plan to run sample on Google Cloud Kubernetes, you need to create a cluster, and configure it.\n",
    "\n",
    "In Google Cloud Console for your project, navigate to Kubernetes page and create a cluster. \n",
    "Here you can select number of nodes, CPU, memory, and HDD size for each node.\n",
    "You can also attach GPUs and TPUs.\n",
    "\n",
    "Same can be achieved using ```gcloud beta container clusters create``` command, but it usually easier to do it from Console.\n",
    "\n",
    "Once your cluster is created run following command to configure Google Cloud SDK to use it:\n",
    "\n",
    "```sh\n",
    "gcloud container clusters get-credentials <cluster name> --region=<region name>\n",
    "```\n",
    "\n",
    "If you plan to use GPUs, you also need to install NVIDIA drivers:\n",
    "https://cloud.google.com/kubernetes-engine/docs/how-to/gpus#installing_drivers\n",
    "\n",
    "```sh\n",
    "kubectl apply -f https://raw.githubusercontent.com/GoogleCloudPlatform/container-engine-accelerators/master/nvidia-driver-installer/cos/daemonset-preloaded.yaml\n",
    "```\n",
    "\n",
    "If you want to use TPUs, you'll need to grant TPU permission to your service account. \n",
    "\n",
    "Follow this instructions:\n",
    "https://cloud.google.com/tpu/docs/kubernetes-engine-setup\n",
    "https://cloud.google.com/ml-engine/docs/tensorflow/using-tpus "
   ]
  },
  {
   "cell_type": "code",
   "execution_count": null,
   "metadata": {},
   "outputs": [],
   "source": []
  }
 ],
 "metadata": {
  "kernelspec": {
   "display_name": "Python 3",
   "language": "python",
   "name": "python3"
  },
  "language_info": {
   "codemirror_mode": {
    "name": "ipython",
    "version": 3
   },
   "file_extension": ".py",
   "mimetype": "text/x-python",
   "name": "python",
   "nbconvert_exporter": "python",
   "pygments_lexer": "ipython3",
   "version": "3.6.8"
  }
 },
 "nbformat": 4,
 "nbformat_minor": 4
}
