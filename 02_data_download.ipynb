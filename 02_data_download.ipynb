{
 "cells": [
  {
   "cell_type": "code",
   "execution_count": null,
   "metadata": {},
   "outputs": [],
   "source": [
    "!mkdir data"
   ]
  },
  {
   "cell_type": "code",
   "execution_count": null,
   "metadata": {},
   "outputs": [
    {
     "name": "stdout",
     "output_type": "stream",
     "text": [
      "  % Total    % Received % Xferd  Average Speed   Time    Time     Time  Current\n",
      "                                 Dload  Upload   Total   Spent    Left  Speed\n",
      "100 4364M  100 4364M    0     0  12.1M      0  0:05:59  0:05:59 --:--:-- 12.2M05:48 9837k15 4364M   15  672M    0     0  11.2M      0  0:06:28  0:00:59  0:05:29 9823k  0     0  12.4M      0  0:05:49  0:03:30  0:02:19 13.3M2923M    0     0  12.4M      0  0:05:50  0:03:54  0:01:56 11.1M51  0:03:59  0:01:52 11.5M    0     0  11.9M      0  0:06:06  0:05:13  0:00:53 9626k\n"
     ]
    }
   ],
   "source": [
    "!cd data && curl -O https://s3-eu-west-1.amazonaws.com/kaggle-display-advertising-challenge-dataset/dac.tar.gz"
   ]
  },
  {
   "cell_type": "code",
   "execution_count": null,
   "metadata": {},
   "outputs": [
    {
     "name": "stdout",
     "output_type": "stream",
     "text": [
      "total 4.3G\n",
      "drwxr-x--- 2 alekseyv primarygroup 4.0K Mar 27 15:40 .\n",
      "drwxr-x--- 8 alekseyv primarygroup 4.0K Mar 27 15:56 ..\n",
      "-rw-r----- 1 alekseyv primarygroup 4.3G Mar 27 15:46 dac.tar.gz\n"
     ]
    }
   ],
   "source": [
    "!ls -alh data"
   ]
  },
  {
   "cell_type": "code",
   "execution_count": null,
   "metadata": {},
   "outputs": [
    {
     "name": "stdout",
     "output_type": "stream",
     "text": [
      "tar: Ignoring unknown extended header keyword 'SCHILY.dev'\n",
      "tar: Ignoring unknown extended header keyword 'SCHILY.ino'\n",
      "tar: Ignoring unknown extended header keyword 'SCHILY.nlink'\n",
      "readme.txt\n",
      "tar: Ignoring unknown extended header keyword 'LIBARCHIVE.creationtime'\n",
      "tar: Ignoring unknown extended header keyword 'SCHILY.dev'\n",
      "tar: Ignoring unknown extended header keyword 'SCHILY.ino'\n",
      "tar: Ignoring unknown extended header keyword 'SCHILY.nlink'\n",
      "test.txt\n",
      "tar: Ignoring unknown extended header keyword 'SCHILY.dev'\n",
      "tar: Ignoring unknown extended header keyword 'SCHILY.ino'\n",
      "tar: Ignoring unknown extended header keyword 'SCHILY.nlink'\n",
      "train.txt\n"
     ]
    }
   ],
   "source": [
    "!cd data && tar xvzf dac.tar.gz"
   ]
  },
  {
   "cell_type": "code",
   "execution_count": null,
   "metadata": {},
   "outputs": [
    {
     "name": "stdout",
     "output_type": "stream",
     "text": [
      "total 17G\n",
      "drwxr-x--- 2 alekseyv primarygroup 4.0K Mar 27 15:57 .\n",
      "drwxr-x--- 8 alekseyv primarygroup 4.0K Mar 27 16:00 ..\n",
      "-rw-r----- 1 alekseyv primarygroup 4.3G Mar 27 15:46 dac.tar.gz\n",
      "-rw-r----- 1 alekseyv primarygroup 1.9K Aug 22  2014 readme.txt\n",
      "-rw-r----- 1 alekseyv primarygroup 1.4G Aug 22  2014 test.txt\n",
      "-rw-r----- 1 alekseyv primarygroup  11G May 12  2014 train.txt\n"
     ]
    }
   ],
   "source": [
    "!ls -alh data"
   ]
  },
  {
   "cell_type": "code",
   "execution_count": null,
   "metadata": {},
   "outputs": [
    {
     "name": "stdout",
     "output_type": "stream",
     "text": [
      "0\t1\t1\t5\t0\t1382\t4\t15\t2\t181\t1\t2\t\t2\t68fd1e64\t80e26c9b\tfb936136\t7b4723c4\t25c83c98\t7e0ccccf\tde7995b8\t1f89b562\ta73ee510\ta8cd5504\tb2cb9c98\t37c9c164\t2824a5f6\t1adce6ef\t8ba8b39a\t891b62e7\te5ba7672\tf54016b9\t21ddcdc9\tb1252a9d\t07b5194c\t\t3a171ecb\tc5c50484\te8b83407\t9727dd16\n",
      "0\t2\t0\t44\t1\t102\t8\t2\t2\t4\t1\t1\t\t4\t68fd1e64\tf0cf0024\t6f67f7e5\t41274cd7\t25c83c98\tfe6b92e5\t922afcc0\t0b153874\ta73ee510\t2b53e5fb\t4f1b46f3\t623049e6\td7020589\tb28479f6\te6c5b5cd\tc92f3b61\t07c540c4\tb04e4670\t21ddcdc9\t5840adea\t60f6221e\t\t3a171ecb\t43f13e8b\te8b83407\t731c3655\n"
     ]
    }
   ],
   "source": [
    "!head -n 2 data/train.txt"
   ]
  },
  {
   "cell_type": "code",
   "execution_count": null,
   "metadata": {},
   "outputs": [
    {
     "name": "stdout",
     "output_type": "stream",
     "text": [
      "45840617 train.txt\n"
     ]
    }
   ],
   "source": [
    "!cd data && wc -l train.txt"
   ]
  },
  {
   "cell_type": "code",
   "execution_count": null,
   "metadata": {},
   "outputs": [],
   "source": [
    "!cd data && split -a 3 -d -l 500000 train.txt train_"
   ]
  },
  {
   "cell_type": "code",
   "execution_count": null,
   "metadata": {},
   "outputs": [],
   "source": [
    "import gcp_runner.core\n",
    "gcp_runner.core.export_and_reload_all(silent=True)\n",
    "from criteo_nbdev.constants import *"
   ]
  },
  {
   "cell_type": "code",
   "execution_count": null,
   "metadata": {},
   "outputs": [
    {
     "data": {
      "text/plain": [
       "'gs://alekseyv-scalableai-dev-public-bucket/'"
      ]
     },
     "execution_count": null,
     "metadata": {},
     "output_type": "execute_result"
    }
   ],
   "source": [
    "GCS_BUCKET"
   ]
  },
  {
   "cell_type": "code",
   "execution_count": null,
   "metadata": {},
   "outputs": [
    {
     "name": "stdout",
     "output_type": "stream",
     "text": [
      "Creating gs://alekseyv-scalableai-dev-public-bucket/...\n",
      "ServiceException: 409 Bucket alekseyv-scalableai-dev-public-bucket already exists.\n"
     ]
    }
   ],
   "source": [
    "!gsutil mb $GCS_BUCKET"
   ]
  },
  {
   "cell_type": "code",
   "execution_count": null,
   "metadata": {},
   "outputs": [
    {
     "data": {
      "text/plain": [
       "'gs://alekseyv-scalableai-dev-public-bucket/criteo_kaggle/'"
      ]
     },
     "execution_count": null,
     "metadata": {},
     "output_type": "execute_result"
    }
   ],
   "source": [
    "GCS_FOLDER"
   ]
  },
  {
   "cell_type": "code",
   "execution_count": null,
   "metadata": {},
   "outputs": [
    {
     "name": "stdout",
     "output_type": "stream",
     "text": [
      "Copying file://data/train_000 [Content-Type=application/octet-stream]...\n",
      "Copying file://data/train_001 [Content-Type=application/octet-stream]...        \n",
      "Copying file://data/train_002 [Content-Type=application/octet-stream]...        \n",
      "Copying file://data/train_003 [Content-Type=application/octet-stream]...        \n",
      "/ [4 files][462.4 MiB/462.4 MiB]                                                \n",
      "==> NOTE: You are performing a sequence of gsutil operations that may\n",
      "run significantly faster if you instead use gsutil -m cp ... Please\n",
      "see the -m section under \"gsutil help options\" for further information\n",
      "about when gsutil -m can be advantageous.\n",
      "\n",
      "Copying file://data/train_004 [Content-Type=application/octet-stream]...\n",
      "Copying file://data/train_005 [Content-Type=application/octet-stream]...        \n",
      "Copying file://data/train_006 [Content-Type=application/octet-stream]...        \n",
      "Copying file://data/train_007 [Content-Type=application/octet-stream]...        \n",
      "Copying file://data/train_008 [Content-Type=application/octet-stream]...        \n",
      "Copying file://data/train_009 [Content-Type=application/octet-stream]...        \n",
      "Copying file://data/train_010 [Content-Type=application/octet-stream]...        \n",
      "Copying file://data/train_011 [Content-Type=application/octet-stream]...        \n",
      "Copying file://data/train_012 [Content-Type=application/octet-stream]...        \n",
      "Copying file://data/train_013 [Content-Type=application/octet-stream]...        \n",
      "Copying file://data/train_014 [Content-Type=application/octet-stream]...        \n",
      "Copying file://data/train_015 [Content-Type=application/octet-stream]...        \n",
      "Copying file://data/train_016 [Content-Type=application/octet-stream]...        \n",
      "Copying file://data/train_017 [Content-Type=application/octet-stream]...        \n",
      "Copying file://data/train_018 [Content-Type=application/octet-stream]...        \n",
      "Copying file://data/train_019 [Content-Type=application/octet-stream]...        \n",
      "Copying file://data/train_020 [Content-Type=application/octet-stream]...        \n",
      "Copying file://data/train_021 [Content-Type=application/octet-stream]...        \n",
      "Copying file://data/train_022 [Content-Type=application/octet-stream]...        \n",
      "Copying file://data/train_023 [Content-Type=application/octet-stream]...        \n",
      "Copying file://data/train_024 [Content-Type=application/octet-stream]...        \n",
      "Copying file://data/train_025 [Content-Type=application/octet-stream]...        \n",
      "Copying file://data/train_026 [Content-Type=application/octet-stream]...        \n",
      "Copying file://data/train_027 [Content-Type=application/octet-stream]...        \n",
      "Copying file://data/train_028 [Content-Type=application/octet-stream]...        \n",
      "Copying file://data/train_029 [Content-Type=application/octet-stream]...        \n",
      "Copying file://data/train_030 [Content-Type=application/octet-stream]...        \n",
      "Copying file://data/train_031 [Content-Type=application/octet-stream]...        \n",
      "Copying file://data/train_032 [Content-Type=application/octet-stream]...        \n",
      "Copying file://data/train_033 [Content-Type=application/octet-stream]...        \n",
      "Copying file://data/train_034 [Content-Type=application/octet-stream]...        \n",
      "Copying file://data/train_035 [Content-Type=application/octet-stream]...        \n",
      "Copying file://data/train_036 [Content-Type=application/octet-stream]...        \n",
      "Copying file://data/train_037 [Content-Type=application/octet-stream]...        \n",
      "Copying file://data/train_038 [Content-Type=application/octet-stream]...        \n",
      "Copying file://data/train_039 [Content-Type=application/octet-stream]...        \n",
      "Copying file://data/train_040 [Content-Type=application/octet-stream]...        \n",
      "Copying file://data/train_041 [Content-Type=application/octet-stream]...        \n",
      "Copying file://data/train_042 [Content-Type=application/octet-stream]...        \n",
      "Copying file://data/train_043 [Content-Type=application/octet-stream]...        \n",
      "Copying file://data/train_044 [Content-Type=application/octet-stream]...        \n",
      "Copying file://data/train_045 [Content-Type=application/octet-stream]...        \n",
      "Copying file://data/train_046 [Content-Type=application/octet-stream]...        \n",
      "Copying file://data/train_047 [Content-Type=application/octet-stream]...        \n",
      "Copying file://data/train_048 [Content-Type=application/octet-stream]...        \n",
      "Copying file://data/train_049 [Content-Type=application/octet-stream]...        \n",
      "Copying file://data/train_050 [Content-Type=application/octet-stream]...        \n",
      "Copying file://data/train_051 [Content-Type=application/octet-stream]...        \n",
      "Copying file://data/train_052 [Content-Type=application/octet-stream]...        \n",
      "Copying file://data/train_053 [Content-Type=application/octet-stream]...        \n",
      "Copying file://data/train_054 [Content-Type=application/octet-stream]...        \n",
      "Copying file://data/train_055 [Content-Type=application/octet-stream]...        \n",
      "Copying file://data/train_056 [Content-Type=application/octet-stream]...        \n",
      "Copying file://data/train_057 [Content-Type=application/octet-stream]...        \n",
      "Copying file://data/train_058 [Content-Type=application/octet-stream]...        \n",
      "Copying file://data/train_059 [Content-Type=application/octet-stream]...        \n",
      "Copying file://data/train_060 [Content-Type=application/octet-stream]...        \n",
      "Copying file://data/train_061 [Content-Type=application/octet-stream]...        \n",
      "Copying file://data/train_062 [Content-Type=application/octet-stream]...        \n",
      "Copying file://data/train_063 [Content-Type=application/octet-stream]...        \n",
      "Copying file://data/train_064 [Content-Type=application/octet-stream]...        \n",
      "Copying file://data/train_065 [Content-Type=application/octet-stream]...        \n",
      "Copying file://data/train_066 [Content-Type=application/octet-stream]...        \n",
      "Copying file://data/train_067 [Content-Type=application/octet-stream]...        \n",
      "Copying file://data/train_068 [Content-Type=application/octet-stream]...        \n",
      "Copying file://data/train_069 [Content-Type=application/octet-stream]...        \n",
      "Copying file://data/train_070 [Content-Type=application/octet-stream]...        \n",
      "Copying file://data/train_071 [Content-Type=application/octet-stream]...        \n",
      "Copying file://data/train_072 [Content-Type=application/octet-stream]...        \n",
      "Copying file://data/train_073 [Content-Type=application/octet-stream]...        \n",
      "Copying file://data/train_074 [Content-Type=application/octet-stream]...        \n",
      "Copying file://data/train_075 [Content-Type=application/octet-stream]...        \n",
      "Copying file://data/train_076 [Content-Type=application/octet-stream]...        \n",
      "Copying file://data/train_077 [Content-Type=application/octet-stream]...        \n",
      "Copying file://data/train_078 [Content-Type=application/octet-stream]...        \n",
      "Copying file://data/train_079 [Content-Type=application/octet-stream]...        \n",
      "Copying file://data/train_080 [Content-Type=application/octet-stream]...        \n",
      "Copying file://data/train_081 [Content-Type=application/octet-stream]...        \n",
      "Copying file://data/train_082 [Content-Type=application/octet-stream]...        \n",
      "Copying file://data/train_083 [Content-Type=application/octet-stream]...        \n",
      "Copying file://data/train_084 [Content-Type=application/octet-stream]...        \n",
      "Copying file://data/train_085 [Content-Type=application/octet-stream]...        \n",
      "Copying file://data/train_086 [Content-Type=application/octet-stream]...        \n",
      "Copying file://data/train_087 [Content-Type=application/octet-stream]...        \n",
      "Copying file://data/train_088 [Content-Type=application/octet-stream]...        \n",
      "Copying file://data/train_089 [Content-Type=application/octet-stream]...        \n",
      "Copying file://data/train_090 [Content-Type=application/octet-stream]...        \n",
      "Copying file://data/train_091 [Content-Type=application/octet-stream]...        \n",
      "| [92 files][ 10.4 GiB/ 10.4 GiB]   43.9 MiB/s                                  \n",
      "==> NOTE: You are performing a sequence of gsutil operations that may\n",
      "run significantly faster if you instead use gsutil -m cp ... Please\n",
      "see the -m section under \"gsutil help options\" for further information\n",
      "about when gsutil -m can be advantageous.\n",
      "\n",
      "\n",
      "Operation completed over 92 objects/10.4 GiB.                                    \n"
     ]
    }
   ],
   "source": [
    "!gsutil cp data/train_* $GCS_FOLDER"
   ]
  }
 ],
 "metadata": {
  "kernelspec": {
   "display_name": "Python 3.7.5 64-bit",
   "language": "python",
   "name": "python37564bitc34665d47f6a46efaf2c998849165367"
  }
 },
 "nbformat": 4,
 "nbformat_minor": 4
}
